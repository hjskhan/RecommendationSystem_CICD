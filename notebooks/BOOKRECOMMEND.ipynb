{
 "cells": [
  {
   "cell_type": "code",
   "execution_count": 1,
   "id": "2b53b963",
   "metadata": {},
   "outputs": [],
   "source": [
    "import pandas as pd\n",
    "import numpy as np\n",
    "import seaborn as sns\n",
    "import matplotlib.pyplot as plt\n",
    "from nltk.tokenize import word_tokenize\n",
    "from nltk.stem import WordNetLemmatizer\n",
    "from nltk.corpus import stopwords\n",
    "import re\n",
    "from sklearn.feature_extraction.text import CountVectorizer\n",
    "from sklearn.feature_extraction.text import TfidfVectorizer\n",
    "from sklearn.metrics.pairwise import cosine_similarity"
   ]
  },
  {
   "cell_type": "code",
   "execution_count": 2,
   "id": "df540a46",
   "metadata": {},
   "outputs": [
    {
     "ename": "ImportError",
     "evalue": "Please install gdrivefs for access to Google Drive",
     "output_type": "error",
     "traceback": [
      "\u001b[1;31m---------------------------------------------------------------------------\u001b[0m",
      "\u001b[1;31mModuleNotFoundError\u001b[0m                       Traceback (most recent call last)",
      "File \u001b[1;32mc:\\Users\\HP\\Documents\\GitHub\\RecommendationSystem_CICD\\myenv\\Lib\\site-packages\\fsspec\\registry.py:226\u001b[0m, in \u001b[0;36mget_filesystem_class\u001b[1;34m(protocol)\u001b[0m\n\u001b[0;32m    225\u001b[0m \u001b[39mtry\u001b[39;00m:\n\u001b[1;32m--> 226\u001b[0m     register_implementation(protocol, _import_class(bit[\u001b[39m\"\u001b[39;49m\u001b[39mclass\u001b[39;49m\u001b[39m\"\u001b[39;49m]))\n\u001b[0;32m    227\u001b[0m \u001b[39mexcept\u001b[39;00m \u001b[39mImportError\u001b[39;00m \u001b[39mas\u001b[39;00m e:\n",
      "File \u001b[1;32mc:\\Users\\HP\\Documents\\GitHub\\RecommendationSystem_CICD\\myenv\\Lib\\site-packages\\fsspec\\registry.py:249\u001b[0m, in \u001b[0;36m_import_class\u001b[1;34m(cls, minv)\u001b[0m\n\u001b[0;32m    248\u001b[0m mod, name \u001b[39m=\u001b[39m \u001b[39mcls\u001b[39m\u001b[39m.\u001b[39mrsplit(\u001b[39m\"\u001b[39m\u001b[39m.\u001b[39m\u001b[39m\"\u001b[39m, \u001b[39m1\u001b[39m)\n\u001b[1;32m--> 249\u001b[0m mod \u001b[39m=\u001b[39m importlib\u001b[39m.\u001b[39;49mimport_module(mod)\n\u001b[0;32m    250\u001b[0m \u001b[39mreturn\u001b[39;00m \u001b[39mgetattr\u001b[39m(mod, name)\n",
      "File \u001b[1;32m~\\AppData\\Local\\Programs\\Python\\Python311\\Lib\\importlib\\__init__.py:126\u001b[0m, in \u001b[0;36mimport_module\u001b[1;34m(name, package)\u001b[0m\n\u001b[0;32m    125\u001b[0m         level \u001b[39m+\u001b[39m\u001b[39m=\u001b[39m \u001b[39m1\u001b[39m\n\u001b[1;32m--> 126\u001b[0m \u001b[39mreturn\u001b[39;00m _bootstrap\u001b[39m.\u001b[39;49m_gcd_import(name[level:], package, level)\n",
      "File \u001b[1;32m<frozen importlib._bootstrap>:1204\u001b[0m, in \u001b[0;36m_gcd_import\u001b[1;34m(name, package, level)\u001b[0m\n",
      "File \u001b[1;32m<frozen importlib._bootstrap>:1176\u001b[0m, in \u001b[0;36m_find_and_load\u001b[1;34m(name, import_)\u001b[0m\n",
      "File \u001b[1;32m<frozen importlib._bootstrap>:1140\u001b[0m, in \u001b[0;36m_find_and_load_unlocked\u001b[1;34m(name, import_)\u001b[0m\n",
      "\u001b[1;31mModuleNotFoundError\u001b[0m: No module named 'gdrivefs'",
      "\nThe above exception was the direct cause of the following exception:\n",
      "\u001b[1;31mImportError\u001b[0m                               Traceback (most recent call last)",
      "Cell \u001b[1;32mIn[2], line 4\u001b[0m\n\u001b[0;32m      1\u001b[0m \u001b[39mimport\u001b[39;00m \u001b[39mdvc\u001b[39;00m\u001b[39m.\u001b[39;00m\u001b[39mapi\u001b[39;00m\n\u001b[0;32m      2\u001b[0m data_path \u001b[39m=\u001b[39m dvc\u001b[39m.\u001b[39mapi\u001b[39m.\u001b[39mget_url(\u001b[39m'\u001b[39m\u001b[39mdata/books_data.csv\u001b[39m\u001b[39m'\u001b[39m)\n\u001b[1;32m----> 4\u001b[0m books \u001b[39m=\u001b[39m pd\u001b[39m.\u001b[39;49mread_csv(data_path)\n",
      "File \u001b[1;32mc:\\Users\\HP\\Documents\\GitHub\\RecommendationSystem_CICD\\myenv\\Lib\\site-packages\\pandas\\io\\parsers\\readers.py:912\u001b[0m, in \u001b[0;36mread_csv\u001b[1;34m(filepath_or_buffer, sep, delimiter, header, names, index_col, usecols, dtype, engine, converters, true_values, false_values, skipinitialspace, skiprows, skipfooter, nrows, na_values, keep_default_na, na_filter, verbose, skip_blank_lines, parse_dates, infer_datetime_format, keep_date_col, date_parser, date_format, dayfirst, cache_dates, iterator, chunksize, compression, thousands, decimal, lineterminator, quotechar, quoting, doublequote, escapechar, comment, encoding, encoding_errors, dialect, on_bad_lines, delim_whitespace, low_memory, memory_map, float_precision, storage_options, dtype_backend)\u001b[0m\n\u001b[0;32m    899\u001b[0m kwds_defaults \u001b[39m=\u001b[39m _refine_defaults_read(\n\u001b[0;32m    900\u001b[0m     dialect,\n\u001b[0;32m    901\u001b[0m     delimiter,\n\u001b[1;32m   (...)\u001b[0m\n\u001b[0;32m    908\u001b[0m     dtype_backend\u001b[39m=\u001b[39mdtype_backend,\n\u001b[0;32m    909\u001b[0m )\n\u001b[0;32m    910\u001b[0m kwds\u001b[39m.\u001b[39mupdate(kwds_defaults)\n\u001b[1;32m--> 912\u001b[0m \u001b[39mreturn\u001b[39;00m _read(filepath_or_buffer, kwds)\n",
      "File \u001b[1;32mc:\\Users\\HP\\Documents\\GitHub\\RecommendationSystem_CICD\\myenv\\Lib\\site-packages\\pandas\\io\\parsers\\readers.py:577\u001b[0m, in \u001b[0;36m_read\u001b[1;34m(filepath_or_buffer, kwds)\u001b[0m\n\u001b[0;32m    574\u001b[0m _validate_names(kwds\u001b[39m.\u001b[39mget(\u001b[39m\"\u001b[39m\u001b[39mnames\u001b[39m\u001b[39m\"\u001b[39m, \u001b[39mNone\u001b[39;00m))\n\u001b[0;32m    576\u001b[0m \u001b[39m# Create the parser.\u001b[39;00m\n\u001b[1;32m--> 577\u001b[0m parser \u001b[39m=\u001b[39m TextFileReader(filepath_or_buffer, \u001b[39m*\u001b[39;49m\u001b[39m*\u001b[39;49mkwds)\n\u001b[0;32m    579\u001b[0m \u001b[39mif\u001b[39;00m chunksize \u001b[39mor\u001b[39;00m iterator:\n\u001b[0;32m    580\u001b[0m     \u001b[39mreturn\u001b[39;00m parser\n",
      "File \u001b[1;32mc:\\Users\\HP\\Documents\\GitHub\\RecommendationSystem_CICD\\myenv\\Lib\\site-packages\\pandas\\io\\parsers\\readers.py:1407\u001b[0m, in \u001b[0;36mTextFileReader.__init__\u001b[1;34m(self, f, engine, **kwds)\u001b[0m\n\u001b[0;32m   1404\u001b[0m     \u001b[39mself\u001b[39m\u001b[39m.\u001b[39moptions[\u001b[39m\"\u001b[39m\u001b[39mhas_index_names\u001b[39m\u001b[39m\"\u001b[39m] \u001b[39m=\u001b[39m kwds[\u001b[39m\"\u001b[39m\u001b[39mhas_index_names\u001b[39m\u001b[39m\"\u001b[39m]\n\u001b[0;32m   1406\u001b[0m \u001b[39mself\u001b[39m\u001b[39m.\u001b[39mhandles: IOHandles \u001b[39m|\u001b[39m \u001b[39mNone\u001b[39;00m \u001b[39m=\u001b[39m \u001b[39mNone\u001b[39;00m\n\u001b[1;32m-> 1407\u001b[0m \u001b[39mself\u001b[39m\u001b[39m.\u001b[39m_engine \u001b[39m=\u001b[39m \u001b[39mself\u001b[39;49m\u001b[39m.\u001b[39;49m_make_engine(f, \u001b[39mself\u001b[39;49m\u001b[39m.\u001b[39;49mengine)\n",
      "File \u001b[1;32mc:\\Users\\HP\\Documents\\GitHub\\RecommendationSystem_CICD\\myenv\\Lib\\site-packages\\pandas\\io\\parsers\\readers.py:1661\u001b[0m, in \u001b[0;36mTextFileReader._make_engine\u001b[1;34m(self, f, engine)\u001b[0m\n\u001b[0;32m   1659\u001b[0m     \u001b[39mif\u001b[39;00m \u001b[39m\"\u001b[39m\u001b[39mb\u001b[39m\u001b[39m\"\u001b[39m \u001b[39mnot\u001b[39;00m \u001b[39min\u001b[39;00m mode:\n\u001b[0;32m   1660\u001b[0m         mode \u001b[39m+\u001b[39m\u001b[39m=\u001b[39m \u001b[39m\"\u001b[39m\u001b[39mb\u001b[39m\u001b[39m\"\u001b[39m\n\u001b[1;32m-> 1661\u001b[0m \u001b[39mself\u001b[39m\u001b[39m.\u001b[39mhandles \u001b[39m=\u001b[39m get_handle(\n\u001b[0;32m   1662\u001b[0m     f,\n\u001b[0;32m   1663\u001b[0m     mode,\n\u001b[0;32m   1664\u001b[0m     encoding\u001b[39m=\u001b[39;49m\u001b[39mself\u001b[39;49m\u001b[39m.\u001b[39;49moptions\u001b[39m.\u001b[39;49mget(\u001b[39m\"\u001b[39;49m\u001b[39mencoding\u001b[39;49m\u001b[39m\"\u001b[39;49m, \u001b[39mNone\u001b[39;49;00m),\n\u001b[0;32m   1665\u001b[0m     compression\u001b[39m=\u001b[39;49m\u001b[39mself\u001b[39;49m\u001b[39m.\u001b[39;49moptions\u001b[39m.\u001b[39;49mget(\u001b[39m\"\u001b[39;49m\u001b[39mcompression\u001b[39;49m\u001b[39m\"\u001b[39;49m, \u001b[39mNone\u001b[39;49;00m),\n\u001b[0;32m   1666\u001b[0m     memory_map\u001b[39m=\u001b[39;49m\u001b[39mself\u001b[39;49m\u001b[39m.\u001b[39;49moptions\u001b[39m.\u001b[39;49mget(\u001b[39m\"\u001b[39;49m\u001b[39mmemory_map\u001b[39;49m\u001b[39m\"\u001b[39;49m, \u001b[39mFalse\u001b[39;49;00m),\n\u001b[0;32m   1667\u001b[0m     is_text\u001b[39m=\u001b[39;49mis_text,\n\u001b[0;32m   1668\u001b[0m     errors\u001b[39m=\u001b[39;49m\u001b[39mself\u001b[39;49m\u001b[39m.\u001b[39;49moptions\u001b[39m.\u001b[39;49mget(\u001b[39m\"\u001b[39;49m\u001b[39mencoding_errors\u001b[39;49m\u001b[39m\"\u001b[39;49m, \u001b[39m\"\u001b[39;49m\u001b[39mstrict\u001b[39;49m\u001b[39m\"\u001b[39;49m),\n\u001b[0;32m   1669\u001b[0m     storage_options\u001b[39m=\u001b[39;49m\u001b[39mself\u001b[39;49m\u001b[39m.\u001b[39;49moptions\u001b[39m.\u001b[39;49mget(\u001b[39m\"\u001b[39;49m\u001b[39mstorage_options\u001b[39;49m\u001b[39m\"\u001b[39;49m, \u001b[39mNone\u001b[39;49;00m),\n\u001b[0;32m   1670\u001b[0m )\n\u001b[0;32m   1671\u001b[0m \u001b[39massert\u001b[39;00m \u001b[39mself\u001b[39m\u001b[39m.\u001b[39mhandles \u001b[39mis\u001b[39;00m \u001b[39mnot\u001b[39;00m \u001b[39mNone\u001b[39;00m\n\u001b[0;32m   1672\u001b[0m f \u001b[39m=\u001b[39m \u001b[39mself\u001b[39m\u001b[39m.\u001b[39mhandles\u001b[39m.\u001b[39mhandle\n",
      "File \u001b[1;32mc:\\Users\\HP\\Documents\\GitHub\\RecommendationSystem_CICD\\myenv\\Lib\\site-packages\\pandas\\io\\common.py:716\u001b[0m, in \u001b[0;36mget_handle\u001b[1;34m(path_or_buf, mode, encoding, compression, memory_map, is_text, errors, storage_options)\u001b[0m\n\u001b[0;32m    713\u001b[0m     codecs\u001b[39m.\u001b[39mlookup_error(errors)\n\u001b[0;32m    715\u001b[0m \u001b[39m# open URLs\u001b[39;00m\n\u001b[1;32m--> 716\u001b[0m ioargs \u001b[39m=\u001b[39m _get_filepath_or_buffer(\n\u001b[0;32m    717\u001b[0m     path_or_buf,\n\u001b[0;32m    718\u001b[0m     encoding\u001b[39m=\u001b[39;49mencoding,\n\u001b[0;32m    719\u001b[0m     compression\u001b[39m=\u001b[39;49mcompression,\n\u001b[0;32m    720\u001b[0m     mode\u001b[39m=\u001b[39;49mmode,\n\u001b[0;32m    721\u001b[0m     storage_options\u001b[39m=\u001b[39;49mstorage_options,\n\u001b[0;32m    722\u001b[0m )\n\u001b[0;32m    724\u001b[0m handle \u001b[39m=\u001b[39m ioargs\u001b[39m.\u001b[39mfilepath_or_buffer\n\u001b[0;32m    725\u001b[0m handles: \u001b[39mlist\u001b[39m[BaseBuffer]\n",
      "File \u001b[1;32mc:\\Users\\HP\\Documents\\GitHub\\RecommendationSystem_CICD\\myenv\\Lib\\site-packages\\pandas\\io\\common.py:414\u001b[0m, in \u001b[0;36m_get_filepath_or_buffer\u001b[1;34m(filepath_or_buffer, encoding, compression, mode, storage_options)\u001b[0m\n\u001b[0;32m    411\u001b[0m     \u001b[39mpass\u001b[39;00m\n\u001b[0;32m    413\u001b[0m \u001b[39mtry\u001b[39;00m:\n\u001b[1;32m--> 414\u001b[0m     file_obj \u001b[39m=\u001b[39m fsspec\u001b[39m.\u001b[39;49mopen(\n\u001b[0;32m    415\u001b[0m         filepath_or_buffer, mode\u001b[39m=\u001b[39;49mfsspec_mode, \u001b[39m*\u001b[39;49m\u001b[39m*\u001b[39;49m(storage_options \u001b[39mor\u001b[39;49;00m {})\n\u001b[0;32m    416\u001b[0m     )\u001b[39m.\u001b[39mopen()\n\u001b[0;32m    417\u001b[0m \u001b[39m# GH 34626 Reads from Public Buckets without Credentials needs anon=True\u001b[39;00m\n\u001b[0;32m    418\u001b[0m \u001b[39mexcept\u001b[39;00m \u001b[39mtuple\u001b[39m(err_types_to_retry_with_anon):\n",
      "File \u001b[1;32mc:\\Users\\HP\\Documents\\GitHub\\RecommendationSystem_CICD\\myenv\\Lib\\site-packages\\fsspec\\core.py:439\u001b[0m, in \u001b[0;36mopen\u001b[1;34m(urlpath, mode, compression, encoding, errors, protocol, newline, **kwargs)\u001b[0m\n\u001b[0;32m    379\u001b[0m \u001b[39mdef\u001b[39;00m \u001b[39mopen\u001b[39m(\n\u001b[0;32m    380\u001b[0m     urlpath,\n\u001b[0;32m    381\u001b[0m     mode\u001b[39m=\u001b[39m\u001b[39m\"\u001b[39m\u001b[39mrb\u001b[39m\u001b[39m\"\u001b[39m,\n\u001b[1;32m   (...)\u001b[0m\n\u001b[0;32m    387\u001b[0m     \u001b[39m*\u001b[39m\u001b[39m*\u001b[39mkwargs,\n\u001b[0;32m    388\u001b[0m ):\n\u001b[0;32m    389\u001b[0m \u001b[39m    \u001b[39m\u001b[39m\"\"\"Given a path or paths, return one ``OpenFile`` object.\u001b[39;00m\n\u001b[0;32m    390\u001b[0m \n\u001b[0;32m    391\u001b[0m \u001b[39m    Parameters\u001b[39;00m\n\u001b[1;32m   (...)\u001b[0m\n\u001b[0;32m    437\u001b[0m \u001b[39m      https://filesystem-spec.readthedocs.io/en/latest/api.html#other-known-implementations\u001b[39;00m\n\u001b[0;32m    438\u001b[0m \u001b[39m    \"\"\"\u001b[39;00m\n\u001b[1;32m--> 439\u001b[0m     out \u001b[39m=\u001b[39m open_files(\n\u001b[0;32m    440\u001b[0m         urlpath\u001b[39m=\u001b[39;49m[urlpath],\n\u001b[0;32m    441\u001b[0m         mode\u001b[39m=\u001b[39;49mmode,\n\u001b[0;32m    442\u001b[0m         compression\u001b[39m=\u001b[39;49mcompression,\n\u001b[0;32m    443\u001b[0m         encoding\u001b[39m=\u001b[39;49mencoding,\n\u001b[0;32m    444\u001b[0m         errors\u001b[39m=\u001b[39;49merrors,\n\u001b[0;32m    445\u001b[0m         protocol\u001b[39m=\u001b[39;49mprotocol,\n\u001b[0;32m    446\u001b[0m         newline\u001b[39m=\u001b[39;49mnewline,\n\u001b[0;32m    447\u001b[0m         expand\u001b[39m=\u001b[39;49m\u001b[39mFalse\u001b[39;49;00m,\n\u001b[0;32m    448\u001b[0m         \u001b[39m*\u001b[39;49m\u001b[39m*\u001b[39;49mkwargs,\n\u001b[0;32m    449\u001b[0m     )\n\u001b[0;32m    450\u001b[0m     \u001b[39mif\u001b[39;00m \u001b[39mnot\u001b[39;00m out:\n\u001b[0;32m    451\u001b[0m         \u001b[39mraise\u001b[39;00m \u001b[39mFileNotFoundError\u001b[39;00m(urlpath)\n",
      "File \u001b[1;32mc:\\Users\\HP\\Documents\\GitHub\\RecommendationSystem_CICD\\myenv\\Lib\\site-packages\\fsspec\\core.py:282\u001b[0m, in \u001b[0;36mopen_files\u001b[1;34m(urlpath, mode, compression, encoding, errors, name_function, num, protocol, newline, auto_mkdir, expand, **kwargs)\u001b[0m\n\u001b[0;32m    203\u001b[0m \u001b[39mdef\u001b[39;00m \u001b[39mopen_files\u001b[39m(\n\u001b[0;32m    204\u001b[0m     urlpath,\n\u001b[0;32m    205\u001b[0m     mode\u001b[39m=\u001b[39m\u001b[39m\"\u001b[39m\u001b[39mrb\u001b[39m\u001b[39m\"\u001b[39m,\n\u001b[1;32m   (...)\u001b[0m\n\u001b[0;32m    215\u001b[0m     \u001b[39m*\u001b[39m\u001b[39m*\u001b[39mkwargs,\n\u001b[0;32m    216\u001b[0m ):\n\u001b[0;32m    217\u001b[0m \u001b[39m    \u001b[39m\u001b[39m\"\"\"Given a path or paths, return a list of ``OpenFile`` objects.\u001b[39;00m\n\u001b[0;32m    218\u001b[0m \n\u001b[0;32m    219\u001b[0m \u001b[39m    For writing, a str path must contain the \"*\" character, which will be filled\u001b[39;00m\n\u001b[1;32m   (...)\u001b[0m\n\u001b[0;32m    280\u001b[0m \u001b[39m      https://filesystem-spec.readthedocs.io/en/latest/api.html#other-known-implementations\u001b[39;00m\n\u001b[0;32m    281\u001b[0m \u001b[39m    \"\"\"\u001b[39;00m\n\u001b[1;32m--> 282\u001b[0m     fs, fs_token, paths \u001b[39m=\u001b[39m get_fs_token_paths(\n\u001b[0;32m    283\u001b[0m         urlpath,\n\u001b[0;32m    284\u001b[0m         mode,\n\u001b[0;32m    285\u001b[0m         num\u001b[39m=\u001b[39;49mnum,\n\u001b[0;32m    286\u001b[0m         name_function\u001b[39m=\u001b[39;49mname_function,\n\u001b[0;32m    287\u001b[0m         storage_options\u001b[39m=\u001b[39;49mkwargs,\n\u001b[0;32m    288\u001b[0m         protocol\u001b[39m=\u001b[39;49mprotocol,\n\u001b[0;32m    289\u001b[0m         expand\u001b[39m=\u001b[39;49mexpand,\n\u001b[0;32m    290\u001b[0m     )\n\u001b[0;32m    291\u001b[0m     \u001b[39mif\u001b[39;00m \u001b[39m\"\u001b[39m\u001b[39mr\u001b[39m\u001b[39m\"\u001b[39m \u001b[39mnot\u001b[39;00m \u001b[39min\u001b[39;00m mode \u001b[39mand\u001b[39;00m auto_mkdir:\n\u001b[0;32m    292\u001b[0m         parents \u001b[39m=\u001b[39m {fs\u001b[39m.\u001b[39m_parent(path) \u001b[39mfor\u001b[39;00m path \u001b[39min\u001b[39;00m paths}\n",
      "File \u001b[1;32mc:\\Users\\HP\\Documents\\GitHub\\RecommendationSystem_CICD\\myenv\\Lib\\site-packages\\fsspec\\core.py:597\u001b[0m, in \u001b[0;36mget_fs_token_paths\u001b[1;34m(urlpath, mode, num, name_function, storage_options, protocol, expand)\u001b[0m\n\u001b[0;32m    595\u001b[0m \u001b[39mif\u001b[39;00m protocol:\n\u001b[0;32m    596\u001b[0m     storage_options[\u001b[39m\"\u001b[39m\u001b[39mprotocol\u001b[39m\u001b[39m\"\u001b[39m] \u001b[39m=\u001b[39m protocol\n\u001b[1;32m--> 597\u001b[0m chain \u001b[39m=\u001b[39m _un_chain(urlpath0, storage_options \u001b[39mor\u001b[39;49;00m {})\n\u001b[0;32m    598\u001b[0m inkwargs \u001b[39m=\u001b[39m {}\n\u001b[0;32m    599\u001b[0m \u001b[39m# Reverse iterate the chain, creating a nested target_* structure\u001b[39;00m\n",
      "File \u001b[1;32mc:\\Users\\HP\\Documents\\GitHub\\RecommendationSystem_CICD\\myenv\\Lib\\site-packages\\fsspec\\core.py:325\u001b[0m, in \u001b[0;36m_un_chain\u001b[1;34m(path, kwargs)\u001b[0m\n\u001b[0;32m    323\u001b[0m \u001b[39mfor\u001b[39;00m bit \u001b[39min\u001b[39;00m \u001b[39mreversed\u001b[39m(bits):\n\u001b[0;32m    324\u001b[0m     protocol \u001b[39m=\u001b[39m kwargs\u001b[39m.\u001b[39mpop(\u001b[39m\"\u001b[39m\u001b[39mprotocol\u001b[39m\u001b[39m\"\u001b[39m, \u001b[39mNone\u001b[39;00m) \u001b[39mor\u001b[39;00m split_protocol(bit)[\u001b[39m0\u001b[39m] \u001b[39mor\u001b[39;00m \u001b[39m\"\u001b[39m\u001b[39mfile\u001b[39m\u001b[39m\"\u001b[39m\n\u001b[1;32m--> 325\u001b[0m     \u001b[39mcls\u001b[39m \u001b[39m=\u001b[39m get_filesystem_class(protocol)\n\u001b[0;32m    326\u001b[0m     extra_kwargs \u001b[39m=\u001b[39m \u001b[39mcls\u001b[39m\u001b[39m.\u001b[39m_get_kwargs_from_urls(bit)\n\u001b[0;32m    327\u001b[0m     kws \u001b[39m=\u001b[39m kwargs\u001b[39m.\u001b[39mpop(protocol, {})\n",
      "File \u001b[1;32mc:\\Users\\HP\\Documents\\GitHub\\RecommendationSystem_CICD\\myenv\\Lib\\site-packages\\fsspec\\registry.py:228\u001b[0m, in \u001b[0;36mget_filesystem_class\u001b[1;34m(protocol)\u001b[0m\n\u001b[0;32m    226\u001b[0m         register_implementation(protocol, _import_class(bit[\u001b[39m\"\u001b[39m\u001b[39mclass\u001b[39m\u001b[39m\"\u001b[39m]))\n\u001b[0;32m    227\u001b[0m     \u001b[39mexcept\u001b[39;00m \u001b[39mImportError\u001b[39;00m \u001b[39mas\u001b[39;00m e:\n\u001b[1;32m--> 228\u001b[0m         \u001b[39mraise\u001b[39;00m \u001b[39mImportError\u001b[39;00m(bit[\u001b[39m\"\u001b[39m\u001b[39merr\u001b[39m\u001b[39m\"\u001b[39m]) \u001b[39mfrom\u001b[39;00m \u001b[39me\u001b[39;00m\n\u001b[0;32m    229\u001b[0m \u001b[39mcls\u001b[39m \u001b[39m=\u001b[39m registry[protocol]\n\u001b[0;32m    230\u001b[0m \u001b[39mif\u001b[39;00m \u001b[39mgetattr\u001b[39m(\u001b[39mcls\u001b[39m, \u001b[39m\"\u001b[39m\u001b[39mprotocol\u001b[39m\u001b[39m\"\u001b[39m, \u001b[39mNone\u001b[39;00m) \u001b[39min\u001b[39;00m (\u001b[39m\"\u001b[39m\u001b[39mabstract\u001b[39m\u001b[39m\"\u001b[39m, \u001b[39mNone\u001b[39;00m):\n",
      "\u001b[1;31mImportError\u001b[0m: Please install gdrivefs for access to Google Drive"
     ]
    }
   ],
   "source": [
    "import dvc.api\n",
    "data_path = dvc.api.get_url('data/books_data.csv')\n",
    "\n",
    "books = pd.read_csv(data_path)"
   ]
  },
  {
   "cell_type": "code",
   "execution_count": 201,
   "id": "ec70db34",
   "metadata": {},
   "outputs": [
    {
     "data": {
      "text/plain": [
       "(212404, 10)"
      ]
     },
     "execution_count": 201,
     "metadata": {},
     "output_type": "execute_result"
    }
   ],
   "source": [
    "books.shape"
   ]
  },
  {
   "cell_type": "code",
   "execution_count": 202,
   "id": "438fe629",
   "metadata": {},
   "outputs": [
    {
     "data": {
      "text/plain": [
       "Title                 1\n",
       "description       68442\n",
       "authors           31413\n",
       "image             52075\n",
       "previewLink       23836\n",
       "publisher         75886\n",
       "publishedDate     25305\n",
       "infoLink          23836\n",
       "categories        41199\n",
       "ratingsCount     162652\n",
       "dtype: int64"
      ]
     },
     "execution_count": 202,
     "metadata": {},
     "output_type": "execute_result"
    }
   ],
   "source": [
    "books.isna().sum()"
   ]
  },
  {
   "cell_type": "code",
   "execution_count": 203,
   "id": "d76cdc3d",
   "metadata": {},
   "outputs": [
    {
     "data": {
      "text/plain": [
       "Index(['Title', 'description', 'authors', 'image', 'previewLink', 'publisher',\n",
       "       'publishedDate', 'infoLink', 'categories', 'ratingsCount'],\n",
       "      dtype='object')"
      ]
     },
     "execution_count": 203,
     "metadata": {},
     "output_type": "execute_result"
    }
   ],
   "source": [
    "books.columns"
   ]
  },
  {
   "cell_type": "code",
   "execution_count": 204,
   "id": "8f862820",
   "metadata": {},
   "outputs": [
    {
     "data": {
      "text/html": [
       "<div>\n",
       "<style scoped>\n",
       "    .dataframe tbody tr th:only-of-type {\n",
       "        vertical-align: middle;\n",
       "    }\n",
       "\n",
       "    .dataframe tbody tr th {\n",
       "        vertical-align: top;\n",
       "    }\n",
       "\n",
       "    .dataframe thead th {\n",
       "        text-align: right;\n",
       "    }\n",
       "</style>\n",
       "<table border=\"1\" class=\"dataframe\">\n",
       "  <thead>\n",
       "    <tr style=\"text-align: right;\">\n",
       "      <th></th>\n",
       "      <th>Title</th>\n",
       "      <th>description</th>\n",
       "      <th>authors</th>\n",
       "      <th>image</th>\n",
       "      <th>previewLink</th>\n",
       "      <th>publisher</th>\n",
       "      <th>publishedDate</th>\n",
       "      <th>infoLink</th>\n",
       "      <th>categories</th>\n",
       "      <th>ratingsCount</th>\n",
       "    </tr>\n",
       "  </thead>\n",
       "  <tbody>\n",
       "    <tr>\n",
       "      <th>0</th>\n",
       "      <td>Its Only Art If Its Well Hung!</td>\n",
       "      <td>NaN</td>\n",
       "      <td>['Julie Strain']</td>\n",
       "      <td>http://books.google.com/books/content?id=DykPA...</td>\n",
       "      <td>http://books.google.nl/books?id=DykPAAAACAAJ&amp;d...</td>\n",
       "      <td>NaN</td>\n",
       "      <td>1996</td>\n",
       "      <td>http://books.google.nl/books?id=DykPAAAACAAJ&amp;d...</td>\n",
       "      <td>['Comics &amp; Graphic Novels']</td>\n",
       "      <td>NaN</td>\n",
       "    </tr>\n",
       "    <tr>\n",
       "      <th>1</th>\n",
       "      <td>Dr. Seuss: American Icon</td>\n",
       "      <td>Philip Nel takes a fascinating look into the k...</td>\n",
       "      <td>['Philip Nel']</td>\n",
       "      <td>http://books.google.com/books/content?id=IjvHQ...</td>\n",
       "      <td>http://books.google.nl/books?id=IjvHQsCn_pgC&amp;p...</td>\n",
       "      <td>A&amp;C Black</td>\n",
       "      <td>2005-01-01</td>\n",
       "      <td>http://books.google.nl/books?id=IjvHQsCn_pgC&amp;d...</td>\n",
       "      <td>['Biography &amp; Autobiography']</td>\n",
       "      <td>NaN</td>\n",
       "    </tr>\n",
       "    <tr>\n",
       "      <th>2</th>\n",
       "      <td>Wonderful Worship in Smaller Churches</td>\n",
       "      <td>This resource includes twelve principles in un...</td>\n",
       "      <td>['David R. Ray']</td>\n",
       "      <td>http://books.google.com/books/content?id=2tsDA...</td>\n",
       "      <td>http://books.google.nl/books?id=2tsDAAAACAAJ&amp;d...</td>\n",
       "      <td>NaN</td>\n",
       "      <td>2000</td>\n",
       "      <td>http://books.google.nl/books?id=2tsDAAAACAAJ&amp;d...</td>\n",
       "      <td>['Religion']</td>\n",
       "      <td>NaN</td>\n",
       "    </tr>\n",
       "    <tr>\n",
       "      <th>3</th>\n",
       "      <td>Whispers of the Wicked Saints</td>\n",
       "      <td>Julia Thomas finds her life spinning out of co...</td>\n",
       "      <td>['Veronica Haddon']</td>\n",
       "      <td>http://books.google.com/books/content?id=aRSIg...</td>\n",
       "      <td>http://books.google.nl/books?id=aRSIgJlq6JwC&amp;d...</td>\n",
       "      <td>iUniverse</td>\n",
       "      <td>2005-02</td>\n",
       "      <td>http://books.google.nl/books?id=aRSIgJlq6JwC&amp;d...</td>\n",
       "      <td>['Fiction']</td>\n",
       "      <td>NaN</td>\n",
       "    </tr>\n",
       "    <tr>\n",
       "      <th>4</th>\n",
       "      <td>Nation Dance: Religion, Identity and Cultural ...</td>\n",
       "      <td>NaN</td>\n",
       "      <td>['Edward Long']</td>\n",
       "      <td>NaN</td>\n",
       "      <td>http://books.google.nl/books?id=399SPgAACAAJ&amp;d...</td>\n",
       "      <td>NaN</td>\n",
       "      <td>2003-03-01</td>\n",
       "      <td>http://books.google.nl/books?id=399SPgAACAAJ&amp;d...</td>\n",
       "      <td>NaN</td>\n",
       "      <td>NaN</td>\n",
       "    </tr>\n",
       "  </tbody>\n",
       "</table>\n",
       "</div>"
      ],
      "text/plain": [
       "                                               Title  \\\n",
       "0                     Its Only Art If Its Well Hung!   \n",
       "1                           Dr. Seuss: American Icon   \n",
       "2              Wonderful Worship in Smaller Churches   \n",
       "3                      Whispers of the Wicked Saints   \n",
       "4  Nation Dance: Religion, Identity and Cultural ...   \n",
       "\n",
       "                                         description              authors  \\\n",
       "0                                                NaN     ['Julie Strain']   \n",
       "1  Philip Nel takes a fascinating look into the k...       ['Philip Nel']   \n",
       "2  This resource includes twelve principles in un...     ['David R. Ray']   \n",
       "3  Julia Thomas finds her life spinning out of co...  ['Veronica Haddon']   \n",
       "4                                                NaN      ['Edward Long']   \n",
       "\n",
       "                                               image  \\\n",
       "0  http://books.google.com/books/content?id=DykPA...   \n",
       "1  http://books.google.com/books/content?id=IjvHQ...   \n",
       "2  http://books.google.com/books/content?id=2tsDA...   \n",
       "3  http://books.google.com/books/content?id=aRSIg...   \n",
       "4                                                NaN   \n",
       "\n",
       "                                         previewLink  publisher publishedDate  \\\n",
       "0  http://books.google.nl/books?id=DykPAAAACAAJ&d...        NaN          1996   \n",
       "1  http://books.google.nl/books?id=IjvHQsCn_pgC&p...  A&C Black    2005-01-01   \n",
       "2  http://books.google.nl/books?id=2tsDAAAACAAJ&d...        NaN          2000   \n",
       "3  http://books.google.nl/books?id=aRSIgJlq6JwC&d...  iUniverse       2005-02   \n",
       "4  http://books.google.nl/books?id=399SPgAACAAJ&d...        NaN    2003-03-01   \n",
       "\n",
       "                                            infoLink  \\\n",
       "0  http://books.google.nl/books?id=DykPAAAACAAJ&d...   \n",
       "1  http://books.google.nl/books?id=IjvHQsCn_pgC&d...   \n",
       "2  http://books.google.nl/books?id=2tsDAAAACAAJ&d...   \n",
       "3  http://books.google.nl/books?id=aRSIgJlq6JwC&d...   \n",
       "4  http://books.google.nl/books?id=399SPgAACAAJ&d...   \n",
       "\n",
       "                      categories  ratingsCount  \n",
       "0    ['Comics & Graphic Novels']           NaN  \n",
       "1  ['Biography & Autobiography']           NaN  \n",
       "2                   ['Religion']           NaN  \n",
       "3                    ['Fiction']           NaN  \n",
       "4                            NaN           NaN  "
      ]
     },
     "execution_count": 204,
     "metadata": {},
     "output_type": "execute_result"
    }
   ],
   "source": [
    "books.head()\n",
    "#We see that the columns 'previewLink' and 'infolink' are yet the same.\n",
    "#therefore we drop one of them out. "
   ]
  },
  {
   "cell_type": "code",
   "execution_count": 205,
   "id": "a72ce916",
   "metadata": {},
   "outputs": [],
   "source": [
    "books.drop('infoLink',axis=1,inplace=True)"
   ]
  },
  {
   "cell_type": "code",
   "execution_count": 206,
   "id": "60f2eb83",
   "metadata": {},
   "outputs": [],
   "source": [
    "books.dropna(inplace=True)"
   ]
  },
  {
   "cell_type": "code",
   "execution_count": 207,
   "id": "035e9bac",
   "metadata": {},
   "outputs": [
    {
     "data": {
      "text/plain": [
       "Title            0\n",
       "description      0\n",
       "authors          0\n",
       "image            0\n",
       "previewLink      0\n",
       "publisher        0\n",
       "publishedDate    0\n",
       "categories       0\n",
       "ratingsCount     0\n",
       "dtype: int64"
      ]
     },
     "execution_count": 207,
     "metadata": {},
     "output_type": "execute_result"
    }
   ],
   "source": [
    "books.isna().sum()"
   ]
  },
  {
   "cell_type": "markdown",
   "id": "4e843d4e",
   "metadata": {},
   "source": [
    "##### we see that the columns 'author' and 'categories'  have a list data type.\n",
    "##### we extract the information from them"
   ]
  },
  {
   "cell_type": "code",
   "execution_count": 208,
   "id": "372fb727",
   "metadata": {},
   "outputs": [],
   "source": [
    "books['categories'] = books['categories'].apply(lambda x: ' '.join(re.findall(r'\\w+|\\d+',x)))\n",
    "books['authors'] = books['authors'].apply(lambda x: ' '.join(re.findall(r'\\w+|\\d+',x)))"
   ]
  },
  {
   "cell_type": "code",
   "execution_count": 209,
   "id": "0cfb97c8",
   "metadata": {},
   "outputs": [
    {
     "data": {
      "text/html": [
       "<div>\n",
       "<style scoped>\n",
       "    .dataframe tbody tr th:only-of-type {\n",
       "        vertical-align: middle;\n",
       "    }\n",
       "\n",
       "    .dataframe tbody tr th {\n",
       "        vertical-align: top;\n",
       "    }\n",
       "\n",
       "    .dataframe thead th {\n",
       "        text-align: right;\n",
       "    }\n",
       "</style>\n",
       "<table border=\"1\" class=\"dataframe\">\n",
       "  <thead>\n",
       "    <tr style=\"text-align: right;\">\n",
       "      <th></th>\n",
       "      <th>Title</th>\n",
       "      <th>description</th>\n",
       "      <th>authors</th>\n",
       "      <th>image</th>\n",
       "      <th>previewLink</th>\n",
       "      <th>publisher</th>\n",
       "      <th>publishedDate</th>\n",
       "      <th>categories</th>\n",
       "      <th>ratingsCount</th>\n",
       "    </tr>\n",
       "  </thead>\n",
       "  <tbody>\n",
       "    <tr>\n",
       "      <th>5</th>\n",
       "      <td>The Church of Christ: A Biblical Ecclesiology ...</td>\n",
       "      <td>In The Church of Christ: A Biblical Ecclesiolo...</td>\n",
       "      <td>Everett Ferguson</td>\n",
       "      <td>http://books.google.com/books/content?id=kVqRa...</td>\n",
       "      <td>http://books.google.nl/books?id=kVqRaiPlx88C&amp;p...</td>\n",
       "      <td>Wm. B. Eerdmans Publishing</td>\n",
       "      <td>1996</td>\n",
       "      <td>Religion</td>\n",
       "      <td>5.0</td>\n",
       "    </tr>\n",
       "    <tr>\n",
       "      <th>31</th>\n",
       "      <td>Voices from the Farm: Adventures in Community ...</td>\n",
       "      <td>Twenty-five years ago, at the height of the co...</td>\n",
       "      <td>Rupert Fike</td>\n",
       "      <td>http://books.google.com/books/content?id=IjTAB...</td>\n",
       "      <td>http://books.google.nl/books?id=IjTABgAAQBAJ&amp;p...</td>\n",
       "      <td>Book Publishing Company</td>\n",
       "      <td>2012-08-21</td>\n",
       "      <td>Biography Autobiography</td>\n",
       "      <td>1.0</td>\n",
       "    </tr>\n",
       "  </tbody>\n",
       "</table>\n",
       "</div>"
      ],
      "text/plain": [
       "                                                Title  \\\n",
       "5   The Church of Christ: A Biblical Ecclesiology ...   \n",
       "31  Voices from the Farm: Adventures in Community ...   \n",
       "\n",
       "                                          description           authors  \\\n",
       "5   In The Church of Christ: A Biblical Ecclesiolo...  Everett Ferguson   \n",
       "31  Twenty-five years ago, at the height of the co...       Rupert Fike   \n",
       "\n",
       "                                                image  \\\n",
       "5   http://books.google.com/books/content?id=kVqRa...   \n",
       "31  http://books.google.com/books/content?id=IjTAB...   \n",
       "\n",
       "                                          previewLink  \\\n",
       "5   http://books.google.nl/books?id=kVqRaiPlx88C&p...   \n",
       "31  http://books.google.nl/books?id=IjTABgAAQBAJ&p...   \n",
       "\n",
       "                     publisher publishedDate               categories  \\\n",
       "5   Wm. B. Eerdmans Publishing          1996                 Religion   \n",
       "31     Book Publishing Company    2012-08-21  Biography Autobiography   \n",
       "\n",
       "    ratingsCount  \n",
       "5            5.0  \n",
       "31           1.0  "
      ]
     },
     "execution_count": 209,
     "metadata": {},
     "output_type": "execute_result"
    }
   ],
   "source": [
    "books.head(2)"
   ]
  },
  {
   "cell_type": "code",
   "execution_count": 210,
   "id": "94363abf",
   "metadata": {},
   "outputs": [
    {
     "name": "stdout",
     "output_type": "stream",
     "text": [
      "count    40635.000000\n",
      "mean        24.054608\n",
      "std        218.280285\n",
      "min          1.000000\n",
      "25%          1.000000\n",
      "50%          2.000000\n",
      "75%          5.000000\n",
      "max       4895.000000\n",
      "Name: ratingsCount, dtype: float64\n"
     ]
    },
    {
     "data": {
      "image/png": "[encoded data removed]",
      "text/plain": [
       "<Figure size 432x288 with 1 Axes>"
      ]
     },
     "metadata": {
      "needs_background": "light"
     },
     "output_type": "display_data"
    }
   ],
   "source": [
    "sns.boxplot(data = books, x= books['ratingsCount'])\n",
    "print(books['ratingsCount'].describe())"
   ]
  },
  {
   "cell_type": "markdown",
   "id": "f1c39c90",
   "metadata": {},
   "source": [
    "##### We see that all the central tendencies are very low around 2.0. \n",
    "##### To generate a better output from the recommendation system, we take into account for only those books which have ratings count greater than 50. This would help in reducing the computation cost also."
   ]
  },
  {
   "cell_type": "code",
   "execution_count": 211,
   "id": "db06ac72",
   "metadata": {},
   "outputs": [],
   "source": [
    "books_small = books[books['ratingsCount']>50]"
   ]
  },
  {
   "cell_type": "code",
   "execution_count": 212,
   "id": "de8daf79",
   "metadata": {},
   "outputs": [
    {
     "data": {
      "text/plain": [
       "(1349, 9)"
      ]
     },
     "execution_count": 212,
     "metadata": {},
     "output_type": "execute_result"
    }
   ],
   "source": [
    "books_small.shape"
   ]
  },
  {
   "cell_type": "code",
   "execution_count": 213,
   "id": "967dac2a",
   "metadata": {},
   "outputs": [
    {
     "name": "stderr",
     "output_type": "stream",
     "text": [
      "C:\\Users\\HP\\AppData\\Local\\Temp\\ipykernel_14312\\673900308.py:1: SettingWithCopyWarning: \n",
      "A value is trying to be set on a copy of a slice from a DataFrame\n",
      "\n",
      "See the caveats in the documentation: https://pandas.pydata.org/pandas-docs/stable/user_guide/indexing.html#returning-a-view-versus-a-copy\n",
      "  books_small.drop_duplicates(subset=['image'],inplace=True)\n"
     ]
    }
   ],
   "source": [
    "books_small.drop_duplicates(subset=['image'],inplace=True)\n",
    "books_small= books_small.reset_index()\n",
    "books_small.drop('index',axis=1,inplace=True)"
   ]
  },
  {
   "cell_type": "code",
   "execution_count": 214,
   "id": "ea327d36",
   "metadata": {},
   "outputs": [
    {
     "name": "stdout",
     "output_type": "stream",
     "text": [
      "(1053, 9)\n"
     ]
    },
    {
     "data": {
      "text/html": [
       "<div>\n",
       "<style scoped>\n",
       "    .dataframe tbody tr th:only-of-type {\n",
       "        vertical-align: middle;\n",
       "    }\n",
       "\n",
       "    .dataframe tbody tr th {\n",
       "        vertical-align: top;\n",
       "    }\n",
       "\n",
       "    .dataframe thead th {\n",
       "        text-align: right;\n",
       "    }\n",
       "</style>\n",
       "<table border=\"1\" class=\"dataframe\">\n",
       "  <thead>\n",
       "    <tr style=\"text-align: right;\">\n",
       "      <th></th>\n",
       "      <th>Title</th>\n",
       "      <th>description</th>\n",
       "      <th>authors</th>\n",
       "      <th>image</th>\n",
       "      <th>previewLink</th>\n",
       "      <th>publisher</th>\n",
       "      <th>publishedDate</th>\n",
       "      <th>categories</th>\n",
       "      <th>ratingsCount</th>\n",
       "    </tr>\n",
       "  </thead>\n",
       "  <tbody>\n",
       "    <tr>\n",
       "      <th>0</th>\n",
       "      <td>The Best Short Stories of Edgar Allan Poe</td>\n",
       "      <td>A complete collection of the writings of Poe, ...</td>\n",
       "      <td>Edgar Allan Poe</td>\n",
       "      <td>http://books.google.com/books/content?id=XVXxS...</td>\n",
       "      <td>http://books.google.nl/books?id=XVXxSBd6LVIC&amp;d...</td>\n",
       "      <td>Bantam Books</td>\n",
       "      <td>1966</td>\n",
       "      <td>Fiction</td>\n",
       "      <td>1180.0</td>\n",
       "    </tr>\n",
       "    <tr>\n",
       "      <th>1</th>\n",
       "      <td>The Cruelest Months</td>\n",
       "      <td>\"Many mystery buffs have credited Louise Penny...</td>\n",
       "      <td>Louise Penny</td>\n",
       "      <td>http://books.google.com/books/content?id=p-12c...</td>\n",
       "      <td>http://books.google.nl/books?id=p-12cgAACAAJ&amp;d...</td>\n",
       "      <td>Minotaur Books</td>\n",
       "      <td>2011-04-12</td>\n",
       "      <td>Fiction</td>\n",
       "      <td>84.0</td>\n",
       "    </tr>\n",
       "  </tbody>\n",
       "</table>\n",
       "</div>"
      ],
      "text/plain": [
       "                                       Title  \\\n",
       "0  The Best Short Stories of Edgar Allan Poe   \n",
       "1                        The Cruelest Months   \n",
       "\n",
       "                                         description          authors  \\\n",
       "0  A complete collection of the writings of Poe, ...  Edgar Allan Poe   \n",
       "1  \"Many mystery buffs have credited Louise Penny...     Louise Penny   \n",
       "\n",
       "                                               image  \\\n",
       "0  http://books.google.com/books/content?id=XVXxS...   \n",
       "1  http://books.google.com/books/content?id=p-12c...   \n",
       "\n",
       "                                         previewLink       publisher  \\\n",
       "0  http://books.google.nl/books?id=XVXxSBd6LVIC&d...    Bantam Books   \n",
       "1  http://books.google.nl/books?id=p-12cgAACAAJ&d...  Minotaur Books   \n",
       "\n",
       "  publishedDate categories  ratingsCount  \n",
       "0          1966    Fiction        1180.0  \n",
       "1    2011-04-12    Fiction          84.0  "
      ]
     },
     "execution_count": 214,
     "metadata": {},
     "output_type": "execute_result"
    }
   ],
   "source": [
    "print(books_small.shape)\n",
    "books_small.head(2)"
   ]
  },
  {
   "cell_type": "code",
   "execution_count": 215,
   "id": "55075fa9",
   "metadata": {},
   "outputs": [
    {
     "data": {
      "text/plain": [
       "Index(['Fiction', 'Juvenile Fiction', 'Religion', 'Biography Autobiography',\n",
       "       'Young Adult Fiction'],\n",
       "      dtype='object')"
      ]
     },
     "execution_count": 215,
     "metadata": {},
     "output_type": "execute_result"
    }
   ],
   "source": [
    "books_small['categories'].value_counts().nlargest(5).index"
   ]
  },
  {
   "cell_type": "code",
   "execution_count": 216,
   "id": "e8166a55",
   "metadata": {},
   "outputs": [
    {
     "data": {
      "image/png": "[encoded data removed]",
      "text/plain": [
       "<Figure size 360x720 with 1 Axes>"
      ]
     },
     "metadata": {},
     "output_type": "display_data"
    }
   ],
   "source": [
    "# Pie chart based on top categories\n",
    "x = books_small['categories'].value_counts().nlargest(5).values.tolist()\n",
    "explode = (0.2,0.2,0.2,0.2,0.2)\n",
    "colors =  ['#ff6666', '#ffcc99', '#99ff99', '#66b3ff','#c2c2f0']\n",
    "labels = books_small['categories'].value_counts().nlargest(5).index.tolist()\n",
    "plt.figure(figsize=(5,10))\n",
    "plt.title('Top Categories')\n",
    "plt.pie(x=x,explode=explode,labels=labels,colors=colors,autopct = '%1.1f%%')\n",
    "plt.show()"
   ]
  },
  {
   "cell_type": "code",
   "execution_count": 217,
   "id": "c7ad13d9",
   "metadata": {},
   "outputs": [
    {
     "data": {
      "image/png": "[encoded data removed]",
      "text/plain": [
       "<Figure size 360x720 with 1 Axes>"
      ]
     },
     "metadata": {},
     "output_type": "display_data"
    }
   ],
   "source": [
    "# Pie chart based on top authors\n",
    "x = books_small['authors'].value_counts().nlargest(5).values.tolist()\n",
    "explode = (0.08,0.08,0.08,0.08,0.08)\n",
    "colors =  ['#ff6666', '#ffcc99', '#99ff99', '#66b3ff','#c2c2f0']\n",
    "labels = books_small['authors'].value_counts().nlargest(5).index.tolist()\n",
    "plt.figure(figsize=(5,10))\n",
    "plt.title('Top Authors')\n",
    "plt.pie(x=x,explode=explode,labels=labels,colors=colors,autopct = '%1.1f%%')\n",
    "plt.show()"
   ]
  },
  {
   "cell_type": "code",
   "execution_count": 218,
   "id": "4e6c2b39",
   "metadata": {},
   "outputs": [
    {
     "data": {
      "image/png": "[encoded data removed]",
      "text/plain": [
       "<Figure size 360x720 with 1 Axes>"
      ]
     },
     "metadata": {},
     "output_type": "display_data"
    }
   ],
   "source": [
    "# Pie chart based on top piublishers\n",
    "x = books_small['publisher'].value_counts().nlargest(5).values.tolist()\n",
    "explode = (0.08,0.08,0.08,0.08,0.08)\n",
    "colors =  ['#ff6666', '#ffcc99', '#99ff99', '#66b3ff','#c2c2f0']\n",
    "labels = books_small['publisher'].value_counts().nlargest(5).index.tolist()\n",
    "plt.figure(figsize=(5,10))\n",
    "plt.title('Top piublishers')\n",
    "plt.pie(x=x,explode=explode,labels=labels,colors=colors,autopct = '%1.1f%%')\n",
    "plt.show()"
   ]
  },
  {
   "cell_type": "code",
   "execution_count": 219,
   "id": "a6c95f2e",
   "metadata": {},
   "outputs": [],
   "source": [
    "# Extracting Year from the data\n",
    "date =[]\n",
    "for i in range(books_small.shape[0]):\n",
    "    ind = books_small.loc[i,'publishedDate']\n",
    "    ind = re.findall(r'[0-9]{4}',ind)[0]\n",
    "    date.append(ind)\n",
    "books_small['publishedDate'] = date\n",
    "books_small['publishedDate'] = books_small['publishedDate'].astype(int)"
   ]
  },
  {
   "cell_type": "code",
   "execution_count": 220,
   "id": "e8711d82",
   "metadata": {},
   "outputs": [
    {
     "data": {
      "image/png": "[encoded data removed]",
      "text/plain": [
       "<Figure size 720x360 with 1 Axes>"
      ]
     },
     "metadata": {
      "needs_background": "light"
     },
     "output_type": "display_data"
    }
   ],
   "source": [
    "# Plot between 'Ratings Count versus Publication Year'\n",
    "date_rate = books_small.groupby(['publishedDate']).sum()\n",
    "plt.figure(figsize=(10,5))\n",
    "plt.grid(visible=True)\n",
    "plt.title('Ratings Count versus Publication Year')\n",
    "sns.lineplot(data=date_rate,x='publishedDate',y='ratingsCount') \n",
    "plt.xlabel('Publication Year')\n",
    "plt.ylabel('Ratings Count')\n",
    "plt.show()"
   ]
  },
  {
   "cell_type": "markdown",
   "id": "8f1d500d",
   "metadata": {},
   "source": [
    "##### We can  see that people like reading modern books specially that of published during 2006-2016."
   ]
  },
  {
   "cell_type": "code",
   "execution_count": 221,
   "id": "7db59862",
   "metadata": {},
   "outputs": [],
   "source": [
    "books_small['content'] = books_small['Title'] +' '+books_small['authors'] + ' ' + books_small['publisher'] +' '+  books_small['categories']"
   ]
  },
  {
   "cell_type": "code",
   "execution_count": 222,
   "id": "5b499fd4",
   "metadata": {},
   "outputs": [],
   "source": [
    "# defining own Stopwords with the help of stopwords in nltk\n",
    "stop = ['a', 'b', 'c', 'd', 'e', 'f', 'g', 'h', 'i', 'j', 'k', 'l', 'm', 'n', 'o', 'p', 'q', 'r', 's', 't', 'u', 'v', 'w', 'x', 'y', 'z',    'yourself', 'more', 'if', 'on', 'don', \"don't\", 'once', 'this', 'being', 'as', 'there', 'should', 'its', 'been', 'didn', \"you're\", 'me', 'but', 'than', 'just', 'an', 'when', 'after', 'now', 'your', \"needn't\", 'aren', 'that', 'during', 've', 'yourselves', \"you'll\", 'who', 'whom', \"hadn't\", \"weren't\", \"shouldn't\", 'at', 'the', 'can', 'herself', 'from', 'those', \"she's\", 'hers', 'so', 'for', 'll', 'do', \"didn't\", 't', 's', 'to', 'wouldn', \"hasn't\", 'before', \"shan't\", 'too', \"mightn't\", 'above', 'most', 'him', 'theirs', 'has', 'she', 'i', 'here', 'be', 'because', 'd', 'y', \"couldn't\", 'doesn', \"wouldn't\", 'ma', 'all', 'doing', 'himself', 'are', 'o', \"doesn't\", 'what', 'my', 'up', \"you've\", 'nor', 'couldn', 'ours', 'his', 'themselves', 'which', 'in', 'having', \"isn't\", 'while', 'shan', 'below', 'ain', \"won't\", 'these', 'needn', \"it's\", 'why', 'were', 'mightn', 'won', 'itself', 'mustn', 'was', 'against', 'of', 'then', 'both', \"wasn't\", 'by', 'or', 'myself', 'a', 'only', 'we', 'down', 'no', 'between', 'some', 'hadn', 'where', 'until', 'other', 'did', 'they', 'have', \"haven't\", 'further', 'you', 'had', 'yours', 'through', 'same', \"should've\", 'he', 'off', 'will', 'few', 'ourselves', 'how', \"aren't\", 'wasn', 'our', 'isn', 'them', 'into', \"that'll\", \"mustn't\", 'such', 'their', 'hasn', 'm', 'weren', 'about', 'under', 'it', 'does', 'not', 'haven', \"you'd\", 'over', 'out', 'any', 'and', 'each', 'very', 'her', 'with', 'own', 're', 'shouldn', 'am', 'again', 'is']"
   ]
  },
  {
   "cell_type": "code",
   "execution_count": 223,
   "id": "a843396c",
   "metadata": {},
   "outputs": [],
   "source": [
    "lemmatizer = WordNetLemmatizer()\n",
    "clear=[]\n",
    "for i in range(books_small.shape[0]):\n",
    "    ind= books_small.loc[i,['content']][0]\n",
    "    ind = ' '.join(re.findall(r'\\w+|\\d+',ind))\n",
    "    ind = ind.lower()\n",
    "    ind = word_tokenize(ind)\n",
    "    ind = [lemmatizer.lemmatize(word) for word in ind if word not in stop]\n",
    "    clear.append(' '.join(ind))"
   ]
  },
  {
   "cell_type": "code",
   "execution_count": 224,
   "id": "bda4fcb2",
   "metadata": {},
   "outputs": [],
   "source": [
    "books_small['final'] = clear"
   ]
  },
  {
   "cell_type": "code",
   "execution_count": 225,
   "id": "6faa6a78",
   "metadata": {},
   "outputs": [],
   "source": [
    "countvector = CountVectorizer(ngram_range=(1,1))\n",
    "books_bow = countvector.fit_transform(books_small['final'])"
   ]
  },
  {
   "cell_type": "code",
   "execution_count": 226,
   "id": "9e1bd151",
   "metadata": {},
   "outputs": [],
   "source": [
    "tfidf = TfidfVectorizer(ngram_range=(1,1))\n",
    "books_tfidf = tfidf.fit_transform(books_small['final'])"
   ]
  },
  {
   "cell_type": "code",
   "execution_count": 227,
   "id": "8b49edec",
   "metadata": {},
   "outputs": [],
   "source": [
    "def preprocess(user_text):\n",
    "    out= []\n",
    "    user_text = [user_text]\n",
    "    for i in user_text:\n",
    "        ind = ' '.join(re.findall(r'\\w+|\\d+',i))\n",
    "        ind = ind.lower()\n",
    "        ind = word_tokenize(ind)\n",
    "        ind = [lemmatizer.lemmatize(word) for word in ind if word not in stop]\n",
    "        out.append(\" \".join(ind))\n",
    "    return out"
   ]
  },
  {
   "cell_type": "code",
   "execution_count": 249,
   "id": "41a31616",
   "metadata": {},
   "outputs": [],
   "source": [
    "def recommend(user_text):\n",
    "    ind = preprocess(user_text)\n",
    "    ind1 = preprocess(user_text)\n",
    "    x = pd.Series(cosine_similarity(books_tfidf,countvector.transform(ind)).\n",
    "               flatten()).nlargest(5).sort_values(ascending=False)\n",
    "    ind= x.index.tolist()\n",
    "    ind = books_small.loc[ind,['Title', 'description', 'authors', 'image', 'previewLink', 'publisher',\n",
    "       'publishedDate', 'categories', 'ratingsCount']]\n",
    "    ind['score'] = pd.Series(cosine_similarity(books_tfidf,tfidf.transform(ind1)).\n",
    "               flatten()).nlargest(5).sort_values(ascending=False).values.tolist()\n",
    "    return ind"
   ]
  },
  {
   "cell_type": "code",
   "execution_count": 251,
   "id": "1c152a9d",
   "metadata": {},
   "outputs": [],
   "source": [
    "def recommendBIG(user_text):\n",
    "    ind = preprocess(user_text)\n",
    "    x = pd.Series(cosine_similarity(books_tfidf,countvector.transform(ind)).\n",
    "               flatten()).nlargest(5).sort_values(ascending=False)\n",
    "    top_index = x.index.tolist()[0]\n",
    "    top_score = pd.Series(cosine_similarity(books_tfidf,countvector.transform(ind)).\n",
    "                          flatten()).nlargest(5).sort_values(ascending=False).values.tolist()[0]\n",
    "    if top_score == 0:\n",
    "        return print('No Match Found')\n",
    "        \n",
    "    else:\n",
    "        input_2 = books_small.loc[top_index,['final']][0]\n",
    "        ind = recommend(input_2)\n",
    "        return ind"
   ]
  },
  {
   "cell_type": "code",
   "execution_count": 265,
   "id": "e66d09c9",
   "metadata": {},
   "outputs": [
    {
     "name": "stdout",
     "output_type": "stream",
     "text": [
      "No Match Found\n"
     ]
    }
   ],
   "source": [
    "if recommendBIG('chips') == str('No Match Found'):\n",
    "    print('yes')"
   ]
  },
  {
   "cell_type": "code",
   "execution_count": 258,
   "id": "0214d05e",
   "metadata": {},
   "outputs": [],
   "source": [
    "titles = recommendBIG('christianity religion')['Title'].values.tolist()\n",
    "description = recommendBIG('christianity religion')['description'].values.tolist()\n",
    "authors = recommendBIG('christianity religion')['authors'].values.tolist()\n",
    "images = recommendBIG('christianity religion')['image'].values.tolist()\n",
    "link = recommendBIG('christianity religion')['previewLink'].values.tolist()\n",
    "date = recommendBIG('christianity religion')['publishedDate'].values.tolist()\n",
    "cat = recommendBIG('christianity religion')['categories'].values.tolist()\n",
    "publishers = recommendBIG('christianity religion')['publisher'].values.tolist()"
   ]
  },
  {
   "cell_type": "code",
   "execution_count": 261,
   "id": "c7f0c124",
   "metadata": {},
   "outputs": [],
   "source": [
    "import pickle\n",
    "pickle.dump(books_bow,open('books_bow.pkl','wb'))\n",
    "pickle.dump(books_small,open('books_small.pkl','wb'))\n",
    "pickle.dump(books_tfidf,open('books_tfidf.pkl','wb'))"
   ]
  },
  {
   "cell_type": "code",
   "execution_count": null,
   "id": "d77ed984",
   "metadata": {},
   "outputs": [],
   "source": []
  }
 ],
 "metadata": {
  "kernelspec": {
   "display_name": "Python 3 (ipykernel)",
   "language": "python",
   "name": "python3"
  },
  "language_info": {
   "codemirror_mode": {
    "name": "ipython",
    "version": 3
   },
   "file_extension": ".py",
   "mimetype": "text/x-python",
   "name": "python",
   "nbconvert_exporter": "python",
   "pygments_lexer": "ipython3",
   "version": "3.11.4"
  }
 },
 "nbformat": 4,
 "nbformat_minor": 5
}
